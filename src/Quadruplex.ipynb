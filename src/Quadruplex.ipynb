{
  "nbformat": 4,
  "nbformat_minor": 0,
  "metadata": {
    "colab": {
      "provenance": []
    },
    "kernelspec": {
      "name": "python3",
      "display_name": "Python 3"
    },
    "language_info": {
      "name": "python"
    }
  },
  "cells": [
    {
      "cell_type": "code",
      "execution_count": null,
      "metadata": {
        "id": "c7OlRW_nhx72"
      },
      "outputs": [],
      "source": []
    },
    {
      "cell_type": "code",
      "source": [
        "from google.colab import drive\n",
        "drive.mount('/content/drive')"
      ],
      "metadata": {
        "id": "evFcx4cfh33e"
      },
      "execution_count": null,
      "outputs": []
    },
    {
      "cell_type": "code",
      "source": [
        "!pip install biopython regex\n",
        "\n",
        "import re\n",
        "from Bio import SeqIO"
      ],
      "metadata": {
        "colab": {
          "base_uri": "https://localhost:8080/"
        },
        "id": "cnuwp2T4h4zS",
        "outputId": "40714943-6b9e-4f53-a0e9-e1a2b02f3bc0"
      },
      "execution_count": 1,
      "outputs": [
        {
          "output_type": "stream",
          "name": "stdout",
          "text": [
            "Collecting biopython\n",
            "  Downloading biopython-1.85-cp311-cp311-manylinux_2_17_x86_64.manylinux2014_x86_64.whl.metadata (13 kB)\n",
            "Requirement already satisfied: regex in /usr/local/lib/python3.11/dist-packages (2024.11.6)\n",
            "Requirement already satisfied: numpy in /usr/local/lib/python3.11/dist-packages (from biopython) (2.0.2)\n",
            "Downloading biopython-1.85-cp311-cp311-manylinux_2_17_x86_64.manylinux2014_x86_64.whl (3.3 MB)\n",
            "\u001b[2K   \u001b[90m━━━━━━━━━━━━━━━━━━━━━━━━━━━━━━━━━━━━━━━━\u001b[0m \u001b[32m3.3/3.3 MB\u001b[0m \u001b[31m31.6 MB/s\u001b[0m eta \u001b[36m0:00:00\u001b[0m\n",
            "\u001b[?25hInstalling collected packages: biopython\n",
            "Successfully installed biopython-1.85\n"
          ]
        }
      ]
    },
    {
      "cell_type": "code",
      "source": [
        "fasta_file = \"/content/drive/MyDrive/genome.fna\"\n",
        "output_file = \"quadruplexes.txt\"\n",
        "\n",
        "pattern = re.compile(r'(G{3,5}[ATGC]{1,7}){3,}G{3,5}', re.IGNORECASE)\n",
        "\n",
        "with open(output_file, \"w\") as out:\n",
        "    for record in SeqIO.parse(fasta_file, \"fasta\"):\n",
        "        seq = str(record.seq).upper()\n",
        "        chrom = record.id\n",
        "        for strand, seq_str in [('+', seq), ('-', str(record.seq.reverse_complement()).upper())]:\n",
        "            for match in pattern.finditer(seq_str):\n",
        "                start = match.start()\n",
        "                end = match.end()\n",
        "                if strand == '-':\n",
        "                    start, end = len(seq) - end, len(seq) - start\n",
        "                out.write(f\"{chrom}\\t{start}\\t{end}\\tG4_{strand}\\t0\\t{strand}\\n\")\n",
        "print(f\"Сохранено: {output_file}\")"
      ],
      "metadata": {
        "colab": {
          "base_uri": "https://localhost:8080/"
        },
        "id": "2pUg6s_xiUMA",
        "outputId": "54461bb6-e9ef-4ef7-b91f-b8f36b489508"
      },
      "execution_count": 2,
      "outputs": [
        {
          "output_type": "stream",
          "name": "stdout",
          "text": [
            "Сохранено: quadruplexes.txt\n"
          ]
        }
      ]
    }
  ]
}